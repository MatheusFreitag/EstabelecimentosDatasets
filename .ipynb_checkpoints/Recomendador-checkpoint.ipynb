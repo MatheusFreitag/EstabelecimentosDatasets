{
 "cells": [
  {
   "cell_type": "code",
   "execution_count": 2,
   "id": "18cfac91-ede7-4ca8-a934-30564a497882",
   "metadata": {},
   "outputs": [],
   "source": [
    "import pandas as pd\n",
    "import numpy as np"
   ]
  },
  {
   "cell_type": "code",
   "execution_count": 1,
   "id": "e2859fa1-b6f0-4f45-a41c-6d474ad71154",
   "metadata": {},
   "outputs": [],
   "source": [
    "# Cinema\n",
    "#   3D (Sim - Nao)\n",
    "#   Estrelas (1 a 5)\n",
    "#   Acessível (Sim - Nao)\n",
    "\n",
    "# Farmacia\n",
    "#   24hrs (Sim - Nao)\n",
    "#   Aplical Inmjecao (Sim - Nao)\n",
    "#   Teste Covid (Sim - Nao)\n",
    "#   Estrelas ( 1 a 5)\n",
    "\n",
    "# Parques\n",
    "#   Playgrounds (Sim - Nao)\n",
    "#   Lagos ( Sim - Nao)\n",
    "#   Pista de Exercício (Sim - Nao)\n",
    "#   Estrelas (Sim - Nao)\n",
    "\n",
    "# Supermercado\n",
    "#   Estacionamento (Sim - Nao)\n",
    "#   Estrelas (1 a 5)\n",
    "#   Caixa Lotérica? (Sim - Nao)\n",
    "\n",
    "# Hospital\n",
    "#   Tempo de Espera (Baixo, Médio e Longo - A definir limites)\n",
    "#   Pediatria (Sim - Nao)\n",
    "#   MAternidade (Sim - Nao)\n",
    "\n",
    "# Teatro\n",
    "#   Acessível (Sim - Nao)\n",
    "#   Reserva (Sim - Nao)\n",
    "#   Estrelas (1 a 5)\n",
    "\n",
    "# Loja de Roupas\n",
    "#   Estrelas (1 a 5)\n",
    "#   Aceesível (Sim - Nao)\n",
    "#   Estacionamento (Sim - Nao)\n",
    "#   Tipo (Departamento ou Formal?)\n",
    "\n",
    "  \n",
    "# Loja de Móveis\n",
    "#   Estrelas (1 a 5)\n",
    "#   Aceesível (Sim - Nao)\n",
    "#   Tipo (Departamento ou Planejados?)\n",
    "\n",
    "# UBS\n",
    "#   Tempo de Espera\n",
    "#   (Baixo, Médio e Longo - A definir limites)\n",
    "#   Presença de Especialista (Sim - Nao)"
   ]
  },
  {
   "cell_type": "code",
   "execution_count": 5,
   "id": "d045e3e4-778c-4b06-917d-083a55b6ee40",
   "metadata": {},
   "outputs": [],
   "source": [
    "df_cinemas = pd.read_csv('https://raw.githubusercontent.com/MatheusFreitag/EstabelecimentosDatasets/main/cinemas.csv?token=GHSAT0AAAAAABXFD7UNZVJWFYQAC5ORHO4EYZHG7NQ')\n",
    "df_farmacias = pd.read_csv('https://raw.githubusercontent.com/MatheusFreitag/EstabelecimentosDatasets/main/farmacias.csv?token=GHSAT0AAAAAABXFD7UNTC3M7QYOOV7JS634YZHHEIQ')\n",
    "df_lojas_de_departamento = pd.read_csv('https://raw.githubusercontent.com/MatheusFreitag/EstabelecimentosDatasets/main/lojas_de_departamento.csv?token=GHSAT0AAAAAABXFD7UNOKBIJHXMRREBXR76YZHHENA')\n",
    "df_parques = pd.read_csv('https://raw.githubusercontent.com/MatheusFreitag/EstabelecimentosDatasets/main/parques.csv?token=GHSAT0AAAAAABXFD7UNMBTBSGYZ3E4ZAG6WYZHHEPA')\n",
    "df_supermercados = pd.read_csv('https://raw.githubusercontent.com/MatheusFreitag/EstabelecimentosDatasets/main/supermercados.csv?token=GHSAT0AAAAAABXFD7UNYK3F3O3HIFVKUJUMYZHHERQ')\n",
    "df_hospitais = pd.read_csv('https://raw.githubusercontent.com/MatheusFreitag/EstabelecimentosDatasets/main/hospitais.csv?token=GHSAT0AAAAAABXFD7UMOUL6UVN22FSH4BU4YZHHEMA')\n",
    "df_lojas_de_roupa = pd.read_csv('https://raw.githubusercontent.com/MatheusFreitag/EstabelecimentosDatasets/main/lojas_de_roupa.csv?token=GHSAT0AAAAAABXFD7UNUCMG55QE6FDIH7CCYZHHEOA')\n",
    "df_postos_de_saude = pd.read_csv('https://raw.githubusercontent.com/MatheusFreitag/EstabelecimentosDatasets/main/postos_de_saude.csv?token=GHSAT0AAAAAABXFD7UN26FDVIVX5XQMTR3CYZHHEQQ')\n",
    "df_teatros = pd.read_csv('https://raw.githubusercontent.com/MatheusFreitag/EstabelecimentosDatasets/main/teatros.csv?token=GHSAT0AAAAAABXFD7UMUGLQ3L56C6ISZ6WSYZHHESQ')"
   ]
  },
  {
   "cell_type": "code",
   "execution_count": null,
   "id": "b0dbfa92-9c8c-4e6a-9335-6761a2604719",
   "metadata": {},
   "outputs": [],
   "source": []
  },
  {
   "cell_type": "code",
   "execution_count": null,
   "id": "c6c67d3c-ee24-4555-984d-e91ed0cca3d6",
   "metadata": {},
   "outputs": [],
   "source": []
  }
 ],
 "metadata": {
  "kernelspec": {
   "display_name": "Python 3 (ipykernel)",
   "language": "python",
   "name": "python3"
  },
  "language_info": {
   "codemirror_mode": {
    "name": "ipython",
    "version": 3
   },
   "file_extension": ".py",
   "mimetype": "text/x-python",
   "name": "python",
   "nbconvert_exporter": "python",
   "pygments_lexer": "ipython3",
   "version": "3.9.12"
  }
 },
 "nbformat": 4,
 "nbformat_minor": 5
}
